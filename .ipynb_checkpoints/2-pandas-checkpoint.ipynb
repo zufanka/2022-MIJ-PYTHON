{
 "cells": [
  {
   "cell_type": "markdown",
   "id": "77702699-b8b6-4189-8793-0664bd1c0e36",
   "metadata": {},
   "source": [
    "# Pandas for beginners"
   ]
  },
  {
   "cell_type": "markdown",
   "id": "c8037b9d-39cb-4921-8bfc-2f77cb9f4a04",
   "metadata": {},
   "source": [
    "![pandas](img/pandas.png)"
   ]
  },
  {
   "cell_type": "markdown",
   "id": "b985199f-b4b3-4163-8c4f-6548e1d0ceed",
   "metadata": {},
   "source": [
    "Useful links\n",
    "<br>➡ Documentation : [pandas.pydata.org](https://pandas.pydata.org/docs/index.html)\n",
    "\n",
    "Pandas is a sort of plugin to Python. We will still use the basic Python logic in many cases, but in many ways Pandas also works completely different."
   ]
  },
  {
   "cell_type": "markdown",
   "id": "a226ea9c-ebd3-45fd-9f73-9761e931b001",
   "metadata": {},
   "source": [
    "# 1. Intro into data types"
   ]
  },
  {
   "cell_type": "markdown",
   "id": "627e4c77-4f65-4111-90b1-24d182cd7744",
   "metadata": {},
   "source": [
    "In the previous lesson, you saw strings, numbers, `lists` and `dictionaries`. These are data types. Pandas works with 2 additional data types: `Series` and `DataFrames`"
   ]
  },
  {
   "cell_type": "code",
   "execution_count": 15,
   "id": "2d6ded9c-a738-45c2-a33c-4c8810cc9a70",
   "metadata": {},
   "outputs": [],
   "source": [
    "import pandas as pd"
   ]
  },
  {
   "cell_type": "markdown",
   "id": "fcd95866-b7f5-4637-b481-36f4767f82bc",
   "metadata": {},
   "source": [
    "## Series\n",
    "\n",
    "`Series` are akin to columns of a table. You can create a `Series` from a `list`"
   ]
  },
  {
   "cell_type": "code",
   "execution_count": 7,
   "id": "91bd9b50-2610-41cd-83d5-8bfea11a8bb8",
   "metadata": {},
   "outputs": [
    {
     "data": {
      "text/plain": [
       "0    1\n",
       "1    3\n",
       "2    5\n",
       "3    7\n",
       "4    6\n",
       "5    8\n",
       "dtype: int64"
      ]
     },
     "execution_count": 7,
     "metadata": {},
     "output_type": "execute_result"
    }
   ],
   "source": [
    "s = pd.Series([1, 3, 5, 7, 6, 8])\n",
    "s"
   ]
  },
  {
   "cell_type": "markdown",
   "id": "6e0ba553-581b-40ed-8444-fa46aa0c65c9",
   "metadata": {},
   "source": [
    "## DataFrames\n",
    "\n",
    "`DataFrame` is an actual table with rows (index) and columns. There are many ways to create a DataFrame. We will be creating them exclusively from excel sheets and CSV tables, so this is just to understand how a dataframe is structured"
   ]
  },
  {
   "cell_type": "code",
   "execution_count": 31,
   "id": "31f2fbdd-afe6-47e3-ba40-b62800713e35",
   "metadata": {},
   "outputs": [
    {
     "data": {
      "text/html": [
       "<div>\n",
       "<style scoped>\n",
       "    .dataframe tbody tr th:only-of-type {\n",
       "        vertical-align: middle;\n",
       "    }\n",
       "\n",
       "    .dataframe tbody tr th {\n",
       "        vertical-align: top;\n",
       "    }\n",
       "\n",
       "    .dataframe thead th {\n",
       "        text-align: right;\n",
       "    }\n",
       "</style>\n",
       "<table border=\"1\" class=\"dataframe\">\n",
       "  <thead>\n",
       "    <tr style=\"text-align: right;\">\n",
       "      <th></th>\n",
       "      <th>A</th>\n",
       "      <th>B</th>\n",
       "      <th>C</th>\n",
       "      <th>D</th>\n",
       "      <th>E</th>\n",
       "      <th>F</th>\n",
       "    </tr>\n",
       "  </thead>\n",
       "  <tbody>\n",
       "    <tr>\n",
       "      <th>0</th>\n",
       "      <td>100.0</td>\n",
       "      <td>2013-01-02</td>\n",
       "      <td>36</td>\n",
       "      <td>30</td>\n",
       "      <td>test</td>\n",
       "      <td>whatever</td>\n",
       "    </tr>\n",
       "    <tr>\n",
       "      <th>1</th>\n",
       "      <td>100.0</td>\n",
       "      <td>2013-01-02</td>\n",
       "      <td>60</td>\n",
       "      <td>56</td>\n",
       "      <td>train</td>\n",
       "      <td>whatever</td>\n",
       "    </tr>\n",
       "    <tr>\n",
       "      <th>2</th>\n",
       "      <td>100.0</td>\n",
       "      <td>2013-01-02</td>\n",
       "      <td>57</td>\n",
       "      <td>59</td>\n",
       "      <td>test</td>\n",
       "      <td>whatever</td>\n",
       "    </tr>\n",
       "    <tr>\n",
       "      <th>3</th>\n",
       "      <td>100.0</td>\n",
       "      <td>2013-01-02</td>\n",
       "      <td>58</td>\n",
       "      <td>34</td>\n",
       "      <td>train</td>\n",
       "      <td>whatever</td>\n",
       "    </tr>\n",
       "  </tbody>\n",
       "</table>\n",
       "</div>"
      ],
      "text/plain": [
       "       A          B   C   D      E         F\n",
       "0  100.0 2013-01-02  36  30   test  whatever\n",
       "1  100.0 2013-01-02  60  56  train  whatever\n",
       "2  100.0 2013-01-02  57  59   test  whatever\n",
       "3  100.0 2013-01-02  58  34  train  whatever"
      ]
     },
     "execution_count": 31,
     "metadata": {},
     "output_type": "execute_result"
    }
   ],
   "source": [
    "from random import randint\n",
    "\n",
    "df = pd.DataFrame({\n",
    "        \"A\": 100.0,\n",
    "        \"B\": pd.Timestamp(\"20130102\"),\n",
    "        \"C\": [randint(30,60), randint(30,60), randint(30,60), randint(30,60)],\n",
    "        \"D\": [randint(30,60), randint(30,60), randint(30,60), randint(30,60)],\n",
    "        \"E\": [\"test\", \"train\", \"test\", \"train\"],\n",
    "        \"F\": \"whatever\"}\n",
    ")\n",
    "df"
   ]
  },
  {
   "cell_type": "code",
   "execution_count": 37,
   "id": "e661559c-fa08-4e31-b6cc-21e66474007b",
   "metadata": {},
   "outputs": [
    {
     "data": {
      "text/html": [
       "<div>\n",
       "<style scoped>\n",
       "    .dataframe tbody tr th:only-of-type {\n",
       "        vertical-align: middle;\n",
       "    }\n",
       "\n",
       "    .dataframe tbody tr th {\n",
       "        vertical-align: top;\n",
       "    }\n",
       "\n",
       "    .dataframe thead th {\n",
       "        text-align: right;\n",
       "    }\n",
       "</style>\n",
       "<table border=\"1\" class=\"dataframe\">\n",
       "  <thead>\n",
       "    <tr style=\"text-align: right;\">\n",
       "      <th></th>\n",
       "      <th>A</th>\n",
       "      <th>B</th>\n",
       "      <th>C</th>\n",
       "    </tr>\n",
       "  </thead>\n",
       "  <tbody>\n",
       "    <tr>\n",
       "      <th>0</th>\n",
       "      <td>1</td>\n",
       "      <td>2</td>\n",
       "      <td>3</td>\n",
       "    </tr>\n",
       "    <tr>\n",
       "      <th>1</th>\n",
       "      <td>4</td>\n",
       "      <td>5</td>\n",
       "      <td>6</td>\n",
       "    </tr>\n",
       "    <tr>\n",
       "      <th>2</th>\n",
       "      <td>7</td>\n",
       "      <td>8</td>\n",
       "      <td>9</td>\n",
       "    </tr>\n",
       "  </tbody>\n",
       "</table>\n",
       "</div>"
      ],
      "text/plain": [
       "   A  B  C\n",
       "0  1  2  3\n",
       "1  4  5  6\n",
       "2  7  8  9"
      ]
     },
     "execution_count": 37,
     "metadata": {},
     "output_type": "execute_result"
    }
   ],
   "source": [
    "df = pd.DataFrame([[1,2,3],[4,5,6],[7,8,9]], index=[0,1,2], columns=['A','B','C'])\n",
    "df"
   ]
  },
  {
   "cell_type": "markdown",
   "id": "02154573-f267-41f3-9f03-b6debba3eab3",
   "metadata": {},
   "source": [
    "### Questions:\n",
    "* From what other data types is the DataFrame structured in these two cases?"
   ]
  },
  {
   "cell_type": "markdown",
   "id": "2ea14ebd-50f7-47df-8354-c94313276d4f",
   "metadata": {},
   "source": [
    "# Opening and exploring data"
   ]
  },
  {
   "cell_type": "code",
   "execution_count": 1,
   "id": "b7defd17-b030-4c1f-91a1-a2cf3582f2c4",
   "metadata": {},
   "outputs": [],
   "source": [
    "# We need to import the library first.\n",
    "import pandas as pd\n",
    "\n",
    "# and set some options for the max columns and number format\n",
    "pd.options.display.max_columns = 100\n",
    "pd.options.display.float_format = '{:,.2f}'.format"
   ]
  },
  {
   "cell_type": "markdown",
   "id": "5dfb10a8-d1f0-42f6-a3c0-312ed44672e1",
   "metadata": {},
   "source": [
    "We will be working with the most recent published year of EU spending (2021), using the data from [EU Financial Transparency System (FTS)](https://ec.europa.eu/budget/financial-transparency-system/index.html). You will find it in the `data` folder"
   ]
  },
  {
   "cell_type": "markdown",
   "id": "8e9061a6-a1d7-437a-b9ed-d26afe727152",
   "metadata": {},
   "source": [
    "Depending on your data source, you can use either of these functions\n",
    "\n",
    "```python\n",
    "df = pd.read_csv()\n",
    "df = pd.read_excel()\n",
    "```"
   ]
  },
  {
   "cell_type": "markdown",
   "id": "8c7c098c-6c8a-4fc1-b1bd-6f7909e509f6",
   "metadata": {},
   "source": [
    "## 1. Open"
   ]
  },
  {
   "cell_type": "code",
   "execution_count": 2,
   "id": "7a110abd-1053-4835-91a1-b052e1367182",
   "metadata": {},
   "outputs": [],
   "source": [
    "df = pd.read_csv(\"data/FTS_2021.csv\", na_values=\"-\")"
   ]
  },
  {
   "cell_type": "markdown",
   "id": "57c8f34d-dd48-491e-9983-0e7e9b6ffefe",
   "metadata": {},
   "source": [
    "## 2. First exploration "
   ]
  },
  {
   "cell_type": "markdown",
   "id": "0f9d99ce-4f43-4940-be48-1a415c55e8ee",
   "metadata": {},
   "source": [
    "The first step for a data analysis is to look at the data first. What columns are there? How many rows? What is in the columns? Pandas has very helpful methods to do this.\n",
    "\n",
    "```python\n",
    "df.info() # information on the column names and non-zero values\n",
    "df.sample(3) # returns 3 sample rows from the data\n",
    "df.head(3) # returns the first 3 rows of the data\n",
    "len(df) # returns the number of rows\n",
    "df.columns # all the column names as a list\n",
    "```\n",
    "Try them all!"
   ]
  },
  {
   "cell_type": "code",
   "execution_count": 3,
   "id": "83d20ff3-6a50-48bd-bdc1-9db140ab15ab",
   "metadata": {},
   "outputs": [
    {
     "data": {
      "text/html": [
       "<div>\n",
       "<style scoped>\n",
       "    .dataframe tbody tr th:only-of-type {\n",
       "        vertical-align: middle;\n",
       "    }\n",
       "\n",
       "    .dataframe tbody tr th {\n",
       "        vertical-align: top;\n",
       "    }\n",
       "\n",
       "    .dataframe thead th {\n",
       "        text-align: right;\n",
       "    }\n",
       "</style>\n",
       "<table border=\"1\" class=\"dataframe\">\n",
       "  <thead>\n",
       "    <tr style=\"text-align: right;\">\n",
       "      <th></th>\n",
       "      <th>Year</th>\n",
       "      <th>Budget</th>\n",
       "      <th>Reference of the Legal Commitment (LC)</th>\n",
       "      <th>Reference (Budget)</th>\n",
       "      <th>Name of beneficiary</th>\n",
       "      <th>VAT number of beneficiary</th>\n",
       "      <th>Not-for-profit organisation (NFPO)</th>\n",
       "      <th>Non-governmental organisation (NGO)</th>\n",
       "      <th>Coordinator</th>\n",
       "      <th>Address</th>\n",
       "      <th>City</th>\n",
       "      <th>Postal code</th>\n",
       "      <th>Beneficiary country</th>\n",
       "      <th>NUTS2</th>\n",
       "      <th>Geographical zone</th>\n",
       "      <th>Action location</th>\n",
       "      <th>Beneficiary’s contracted amount (EUR)</th>\n",
       "      <th>Beneficiary’s estimated contracted amount (EUR)</th>\n",
       "      <th>Beneficiary’s estimated consumed amount (EUR)</th>\n",
       "      <th>Commitment contracted amount (EUR) (A)</th>\n",
       "      <th>Additional/Reduced amount (EUR) (B)</th>\n",
       "      <th>Commitment  total amount (EUR) (A+B)</th>\n",
       "      <th>Commitment consumed amount (EUR)</th>\n",
       "      <th>Source of (estimated) detailed amount</th>\n",
       "      <th>Expense type</th>\n",
       "      <th>Subject of grant or contract</th>\n",
       "      <th>Responsible department</th>\n",
       "      <th>Budget line number</th>\n",
       "      <th>Budget line name</th>\n",
       "      <th>Programme name</th>\n",
       "      <th>Funding type</th>\n",
       "      <th>Beneficiary Group Code</th>\n",
       "      <th>Beneficiary type</th>\n",
       "      <th>Project start date</th>\n",
       "      <th>Project end date</th>\n",
       "      <th>Type of contract*</th>\n",
       "      <th>Management type</th>\n",
       "      <th>Benefiting country</th>\n",
       "    </tr>\n",
       "  </thead>\n",
       "  <tbody>\n",
       "    <tr>\n",
       "      <th>49042</th>\n",
       "      <td>2021</td>\n",
       "      <td>BGUE</td>\n",
       "      <td>SI2.1094695</td>\n",
       "      <td>SI2.862372.1</td>\n",
       "      <td>NETCOMPANY-INTRASOFT SA</td>\n",
       "      <td>LU16853659</td>\n",
       "      <td>No</td>\n",
       "      <td>No</td>\n",
       "      <td>Yes</td>\n",
       "      <td>2B RUE NICOLAS BOVE</td>\n",
       "      <td>LUXEMBOURG</td>\n",
       "      <td>1253</td>\n",
       "      <td>Luxembourg</td>\n",
       "      <td>Luxembourg</td>\n",
       "      <td>NaN</td>\n",
       "      <td>NaN</td>\n",
       "      <td>93,498.90</td>\n",
       "      <td>93,498.90</td>\n",
       "      <td>0.00</td>\n",
       "      <td>93,499.00</td>\n",
       "      <td>0.00</td>\n",
       "      <td>93,499.00</td>\n",
       "      <td>0.00</td>\n",
       "      <td>The repartition for each beneficiary was not a...</td>\n",
       "      <td>Operational</td>\n",
       "      <td>BOOKING OF A VENUE FOR THE 2022 ENTERPRISE EUR...</td>\n",
       "      <td>EISMEA - European Innovation Council and SMEs ...</td>\n",
       "      <td>03 02 02 00</td>\n",
       "      <td>Improving the competitiveness of enterprises, ...</td>\n",
       "      <td>1.0.31 - Single Market Programme (incl - SMEs)</td>\n",
       "      <td>Procurement contract</td>\n",
       "      <td>LE05</td>\n",
       "      <td>Private Companies</td>\n",
       "      <td>16/12/2021</td>\n",
       "      <td>15/01/2023</td>\n",
       "      <td>Communication &amp; Publications</td>\n",
       "      <td>Direct management</td>\n",
       "      <td>Luxembourg 100%</td>\n",
       "    </tr>\n",
       "    <tr>\n",
       "      <th>49184</th>\n",
       "      <td>2021</td>\n",
       "      <td>BGUE</td>\n",
       "      <td>SI2.1146986</td>\n",
       "      <td>SI2.864059.2</td>\n",
       "      <td>NETCOMPANY-INTRASOFT SA</td>\n",
       "      <td>LU16853659</td>\n",
       "      <td>No</td>\n",
       "      <td>No</td>\n",
       "      <td>Yes</td>\n",
       "      <td>2B RUE NICOLAS BOVE</td>\n",
       "      <td>LUXEMBOURG</td>\n",
       "      <td>1253</td>\n",
       "      <td>Luxembourg</td>\n",
       "      <td>Luxembourg</td>\n",
       "      <td>NaN</td>\n",
       "      <td>NaN</td>\n",
       "      <td>20,000.00</td>\n",
       "      <td>20,000.00</td>\n",
       "      <td>0.00</td>\n",
       "      <td>20,000.00</td>\n",
       "      <td>0.00</td>\n",
       "      <td>20,000.00</td>\n",
       "      <td>0.00</td>\n",
       "      <td>The total amount of the commitment was attribu...</td>\n",
       "      <td>Operational</td>\n",
       "      <td>SANTE EUSS SUPPORT</td>\n",
       "      <td>SANTE - Directorate-General for Health and Foo...</td>\n",
       "      <td>06 06 99 01</td>\n",
       "      <td>Completion of previous public health programme...</td>\n",
       "      <td>2.2.25 - EU4Health</td>\n",
       "      <td>Procurement contract</td>\n",
       "      <td>LE05</td>\n",
       "      <td>Private Companies</td>\n",
       "      <td>21/12/2021</td>\n",
       "      <td>31/12/2022</td>\n",
       "      <td>IT Services and Telecommunication Charges</td>\n",
       "      <td>Direct management</td>\n",
       "      <td>Luxembourg 100%</td>\n",
       "    </tr>\n",
       "    <tr>\n",
       "      <th>47193</th>\n",
       "      <td>2021</td>\n",
       "      <td>BGUE</td>\n",
       "      <td>SI2.1055177</td>\n",
       "      <td>SI2.852565.1</td>\n",
       "      <td>MET OFFICE*</td>\n",
       "      <td>GB888805362</td>\n",
       "      <td>No</td>\n",
       "      <td>No</td>\n",
       "      <td>No</td>\n",
       "      <td>FITZROY ROAD</td>\n",
       "      <td>EXETER</td>\n",
       "      <td>EX1 3PB</td>\n",
       "      <td>United Kingdom</td>\n",
       "      <td>Devon</td>\n",
       "      <td>NaN</td>\n",
       "      <td>NaN</td>\n",
       "      <td>0.00</td>\n",
       "      <td>0.00</td>\n",
       "      <td>0.00</td>\n",
       "      <td>500,000.00</td>\n",
       "      <td>0.00</td>\n",
       "      <td>500,000.00</td>\n",
       "      <td>250,000.00</td>\n",
       "      <td>The repartition for each beneficiary was not a...</td>\n",
       "      <td>Operational</td>\n",
       "      <td>THIRTEEN SPECIFIC GRANT AGREEMENT - FRAMEWOKF ...</td>\n",
       "      <td>DEFIS - Directorate-General for Defence Indust...</td>\n",
       "      <td>04 02 99 02</td>\n",
       "      <td>Completion of the Copernicus programme (2014 t...</td>\n",
       "      <td>1.0.41 - European Space Programme</td>\n",
       "      <td>Grant</td>\n",
       "      <td>LE04</td>\n",
       "      <td>Public Bodies</td>\n",
       "      <td>01/09/2021</td>\n",
       "      <td>31/12/2023</td>\n",
       "      <td>Action Grant</td>\n",
       "      <td>Direct management</td>\n",
       "      <td>Germany 100%</td>\n",
       "    </tr>\n",
       "  </tbody>\n",
       "</table>\n",
       "</div>"
      ],
      "text/plain": [
       "       Year Budget Reference of the Legal Commitment (LC) Reference (Budget)  \\\n",
       "49042  2021   BGUE                            SI2.1094695       SI2.862372.1   \n",
       "49184  2021   BGUE                            SI2.1146986       SI2.864059.2   \n",
       "47193  2021   BGUE                            SI2.1055177       SI2.852565.1   \n",
       "\n",
       "           Name of beneficiary VAT number of beneficiary  \\\n",
       "49042  NETCOMPANY-INTRASOFT SA                LU16853659   \n",
       "49184  NETCOMPANY-INTRASOFT SA                LU16853659   \n",
       "47193              MET OFFICE*               GB888805362   \n",
       "\n",
       "      Not-for-profit organisation (NFPO) Non-governmental organisation (NGO)  \\\n",
       "49042                                 No                                  No   \n",
       "49184                                 No                                  No   \n",
       "47193                                 No                                  No   \n",
       "\n",
       "      Coordinator              Address        City Postal code  \\\n",
       "49042         Yes  2B RUE NICOLAS BOVE  LUXEMBOURG        1253   \n",
       "49184         Yes  2B RUE NICOLAS BOVE  LUXEMBOURG        1253   \n",
       "47193          No         FITZROY ROAD      EXETER     EX1 3PB   \n",
       "\n",
       "      Beneficiary country       NUTS2 Geographical zone Action location  \\\n",
       "49042          Luxembourg  Luxembourg               NaN             NaN   \n",
       "49184          Luxembourg  Luxembourg               NaN             NaN   \n",
       "47193      United Kingdom       Devon               NaN             NaN   \n",
       "\n",
       "      Beneficiary’s contracted amount (EUR)  \\\n",
       "49042                             93,498.90   \n",
       "49184                             20,000.00   \n",
       "47193                                  0.00   \n",
       "\n",
       "      Beneficiary’s estimated contracted amount (EUR)  \\\n",
       "49042                                       93,498.90   \n",
       "49184                                       20,000.00   \n",
       "47193                                            0.00   \n",
       "\n",
       "      Beneficiary’s estimated consumed amount (EUR)  \\\n",
       "49042                                          0.00   \n",
       "49184                                          0.00   \n",
       "47193                                          0.00   \n",
       "\n",
       "      Commitment contracted amount (EUR) (A)  \\\n",
       "49042                              93,499.00   \n",
       "49184                              20,000.00   \n",
       "47193                             500,000.00   \n",
       "\n",
       "      Additional/Reduced amount (EUR) (B)  \\\n",
       "49042                                0.00   \n",
       "49184                                0.00   \n",
       "47193                                0.00   \n",
       "\n",
       "      Commitment  total amount (EUR) (A+B) Commitment consumed amount (EUR)  \\\n",
       "49042                            93,499.00                             0.00   \n",
       "49184                            20,000.00                             0.00   \n",
       "47193                           500,000.00                       250,000.00   \n",
       "\n",
       "                   Source of (estimated) detailed amount Expense type  \\\n",
       "49042  The repartition for each beneficiary was not a...  Operational   \n",
       "49184  The total amount of the commitment was attribu...  Operational   \n",
       "47193  The repartition for each beneficiary was not a...  Operational   \n",
       "\n",
       "                            Subject of grant or contract  \\\n",
       "49042  BOOKING OF A VENUE FOR THE 2022 ENTERPRISE EUR...   \n",
       "49184                                 SANTE EUSS SUPPORT   \n",
       "47193  THIRTEEN SPECIFIC GRANT AGREEMENT - FRAMEWOKF ...   \n",
       "\n",
       "                                  Responsible department Budget line number  \\\n",
       "49042  EISMEA - European Innovation Council and SMEs ...        03 02 02 00   \n",
       "49184  SANTE - Directorate-General for Health and Foo...        06 06 99 01   \n",
       "47193  DEFIS - Directorate-General for Defence Indust...        04 02 99 02   \n",
       "\n",
       "                                        Budget line name  \\\n",
       "49042  Improving the competitiveness of enterprises, ...   \n",
       "49184  Completion of previous public health programme...   \n",
       "47193  Completion of the Copernicus programme (2014 t...   \n",
       "\n",
       "                                       Programme name          Funding type  \\\n",
       "49042  1.0.31 - Single Market Programme (incl - SMEs)  Procurement contract   \n",
       "49184                              2.2.25 - EU4Health  Procurement contract   \n",
       "47193               1.0.41 - European Space Programme                 Grant   \n",
       "\n",
       "      Beneficiary Group Code   Beneficiary type Project start date  \\\n",
       "49042                   LE05  Private Companies         16/12/2021   \n",
       "49184                   LE05  Private Companies         21/12/2021   \n",
       "47193                   LE04      Public Bodies         01/09/2021   \n",
       "\n",
       "      Project end date                          Type of contract*  \\\n",
       "49042       15/01/2023               Communication & Publications   \n",
       "49184       31/12/2022  IT Services and Telecommunication Charges   \n",
       "47193       31/12/2023                               Action Grant   \n",
       "\n",
       "         Management type Benefiting country  \n",
       "49042  Direct management    Luxembourg 100%  \n",
       "49184  Direct management    Luxembourg 100%  \n",
       "47193  Direct management       Germany 100%  "
      ]
     },
     "execution_count": 3,
     "metadata": {},
     "output_type": "execute_result"
    }
   ],
   "source": [
    "df.sample(3)"
   ]
  },
  {
   "cell_type": "code",
   "execution_count": null,
   "id": "6ab04288-04d6-415a-9b28-be0c14814266",
   "metadata": {},
   "outputs": [],
   "source": []
  },
  {
   "cell_type": "markdown",
   "id": "cc255e25-6c0a-4130-9e4d-7abd026caa2b",
   "metadata": {},
   "source": [
    "After a first look, we want to see unique values for some of the columns, and visualize the numeric columns. We isolate columns using this syntax:\n",
    "\n",
    "```python\n",
    "df[\"column\"]\n",
    "```\n",
    "\n",
    "This will return a `Series` from a `DataFrame`. It's important to know what data type you are working with, as all of them have their own methods.\n",
    "\n",
    "\n",
    "```python\n",
    "# for categorical variables\n",
    "df[\"column\"].unique() # all the unique values of the column\n",
    "df[\"column\"].value_counts() # how often does a value occur\n",
    "\n",
    "# for numeric variables\n",
    "df.hist(column='column') # makes a histogram\n",
    "df.describe() # descriptive statistics for all numeric variables\n",
    "df[\"column\"].describe() # descriptive statistics for a single column\n",
    "```\n",
    "\n",
    "Explore the dataset"
   ]
  },
  {
   "cell_type": "code",
   "execution_count": null,
   "id": "02d319d2-db75-4574-a9db-299a56aaebf6",
   "metadata": {},
   "outputs": [],
   "source": []
  },
  {
   "cell_type": "markdown",
   "id": "a5e8ec35-c7c3-46ea-a8eb-709272e41e71",
   "metadata": {},
   "source": [
    "We could also use what we learned about loops and let python analyze some of the data for us.\n",
    "\n",
    "```python\n",
    "for col in df.columns:\n",
    "    print(f\"{col} : {len(df[col].unique())}\")\n",
    "```\n",
    "\n",
    "Let's paste this below and dissect it"
   ]
  },
  {
   "cell_type": "code",
   "execution_count": null,
   "id": "12b53d78-00fc-423b-9b22-79b190712365",
   "metadata": {},
   "outputs": [],
   "source": []
  },
  {
   "cell_type": "code",
   "execution_count": null,
   "id": "65c1a9dc-21fd-4de2-9d91-b90266596256",
   "metadata": {},
   "outputs": [],
   "source": []
  },
  {
   "cell_type": "markdown",
   "id": "6194bb48-1b1a-4599-b2f7-6788d013d932",
   "metadata": {},
   "source": [
    "## 3. Clean"
   ]
  },
  {
   "cell_type": "markdown",
   "id": "b0192fe7-e51c-481b-9f3c-37ed1dca92a0",
   "metadata": {},
   "source": [
    "Data cleaning is a very disliked but important step. In our dataset, the numeric columns contain a comma as thousands separators.<br>Therefore, Pandas does not recognize the number as a number, but as a string. See also the data type next to the columns in `df.info()`.\n",
    "\n",
    "First, we will use `.str.replace()` to replace the comma with nothing. Then we will use `pd.to_numeric()` to make numeric column from a string.<br>\n",
    "We will save the output in a new column. To create a new column, we will use the same syntax as for isolating a column, but assigning a value to it first.\n",
    "```python\n",
    "df[\"beneficiary_contracted_amount\"] = pd.to_numeric(df[\"Beneficiary’s contracted amount (EUR)\"].str.replace(\",\",\"\"))\n",
    "```"
   ]
  },
  {
   "cell_type": "code",
   "execution_count": 4,
   "id": "534aea8c-42ca-40c9-92b0-5e563b10cb8b",
   "metadata": {},
   "outputs": [],
   "source": [
    "df[\"beneficiary_contracted_amount\"] = pd.to_numeric(df[\"Beneficiary’s contracted amount (EUR)\"].str.replace(\",\",\"\"))"
   ]
  },
  {
   "cell_type": "markdown",
   "id": "9502c417-d03f-44ce-a050-70990e98078c",
   "metadata": {},
   "source": [
    "Another step of cleaning we might want to do is filtering the data to only contain columns we want.\n",
    "\n",
    "```python\n",
    "# make a list of column names we would like to keep\n",
    "keep = [\"Name of beneficiary\", \"beneficiary_contracted_amount\", \"Beneficiary country\", \"Beneficiary type\" ,\"Subject of grant or contract\", \"Programme name\"]\n",
    "\n",
    "# make a copy of a the DataFrame and use the same brackets as with selecting one column []\n",
    "filtered = df.copy()[keep]\n",
    "```"
   ]
  },
  {
   "cell_type": "code",
   "execution_count": 5,
   "id": "7cf89ea1-3b47-4b13-bf51-31006df7ad7c",
   "metadata": {},
   "outputs": [],
   "source": [
    "keep = [\"Name of beneficiary\", \"beneficiary_contracted_amount\", \"Beneficiary country\", \"Beneficiary type\" ,\"Subject of grant or contract\", \"Programme name\"]\n",
    "filtered = df.copy()[keep]"
   ]
  },
  {
   "cell_type": "markdown",
   "id": "f526738f-5e9a-45c5-96f9-f43e95552c98",
   "metadata": {},
   "source": [
    "## 4. More exploration "
   ]
  },
  {
   "cell_type": "markdown",
   "id": "1f679d7b-3af8-4de5-8ba1-323af53d3250",
   "metadata": {},
   "source": [
    "Let's first find out what is the largest award in our dataset. We will sort the table based on the newly created `beneficiary_contracted_amount` variable.\n",
    "\n",
    "```python\n",
    "filtered.nlargest(30, \"beneficiary_contracted_amount\")\n",
    "```"
   ]
  },
  {
   "cell_type": "code",
   "execution_count": null,
   "id": "d7da07ea-0eb0-48d1-b21b-dcf6f7ddd3fc",
   "metadata": {},
   "outputs": [],
   "source": []
  },
  {
   "cell_type": "markdown",
   "id": "67a0de8a-945f-40ad-81ca-501e952ac88c",
   "metadata": {},
   "source": [
    "The largest values are Recovery and Resilience disimbursement to member states. We are mostly interested in private companies though. We can filter them out like this:\n",
    "\n",
    "```python\n",
    "filtered[filtered[\"Beneficiary type\"] == \"Private Companies\"]\n",
    "```\n",
    "\n",
    "We can even save them as another separate DataFrame\n",
    "\n",
    "```python\n",
    "private_companies = filtered[filtered[\"Beneficiary type\"] == \"Private Companies\"]\n",
    "```"
   ]
  },
  {
   "cell_type": "code",
   "execution_count": 6,
   "id": "febf00e2-060c-4488-961a-e779238735a0",
   "metadata": {},
   "outputs": [
    {
     "data": {
      "text/html": [
       "<div>\n",
       "<style scoped>\n",
       "    .dataframe tbody tr th:only-of-type {\n",
       "        vertical-align: middle;\n",
       "    }\n",
       "\n",
       "    .dataframe tbody tr th {\n",
       "        vertical-align: top;\n",
       "    }\n",
       "\n",
       "    .dataframe thead th {\n",
       "        text-align: right;\n",
       "    }\n",
       "</style>\n",
       "<table border=\"1\" class=\"dataframe\">\n",
       "  <thead>\n",
       "    <tr style=\"text-align: right;\">\n",
       "      <th></th>\n",
       "      <th>Name of beneficiary</th>\n",
       "      <th>beneficiary_contracted_amount</th>\n",
       "      <th>Beneficiary country</th>\n",
       "      <th>Beneficiary type</th>\n",
       "      <th>Subject of grant or contract</th>\n",
       "      <th>Programme name</th>\n",
       "    </tr>\n",
       "  </thead>\n",
       "  <tbody>\n",
       "    <tr>\n",
       "      <th>0</th>\n",
       "      <td>*****</td>\n",
       "      <td>0.00</td>\n",
       "      <td>Afghanistan</td>\n",
       "      <td>Private Companies</td>\n",
       "      <td>*****</td>\n",
       "      <td>6.0.111 - Neighbourhood, Development and Inter...</td>\n",
       "    </tr>\n",
       "    <tr>\n",
       "      <th>1</th>\n",
       "      <td>*****</td>\n",
       "      <td>600,000.00</td>\n",
       "      <td>Russia</td>\n",
       "      <td>Private Companies</td>\n",
       "      <td>*****</td>\n",
       "      <td>6.0.111 - Neighbourhood, Development and Inter...</td>\n",
       "    </tr>\n",
       "    <tr>\n",
       "      <th>2</th>\n",
       "      <td>*****</td>\n",
       "      <td>600,000.00</td>\n",
       "      <td>Russia</td>\n",
       "      <td>Private Companies</td>\n",
       "      <td>*****</td>\n",
       "      <td>6.0.111 - Neighbourhood, Development and Inter...</td>\n",
       "    </tr>\n",
       "    <tr>\n",
       "      <th>3</th>\n",
       "      <td>*****</td>\n",
       "      <td>600,000.00</td>\n",
       "      <td>Russia</td>\n",
       "      <td>Private Companies</td>\n",
       "      <td>*****</td>\n",
       "      <td>6.0.111 - Neighbourhood, Development and Inter...</td>\n",
       "    </tr>\n",
       "    <tr>\n",
       "      <th>4</th>\n",
       "      <td>*****</td>\n",
       "      <td>580,000.00</td>\n",
       "      <td>Russia</td>\n",
       "      <td>Private Companies</td>\n",
       "      <td>*****</td>\n",
       "      <td>6.0.111 - Neighbourhood, Development and Inter...</td>\n",
       "    </tr>\n",
       "  </tbody>\n",
       "</table>\n",
       "</div>"
      ],
      "text/plain": [
       "  Name of beneficiary  beneficiary_contracted_amount Beneficiary country  \\\n",
       "0               *****                           0.00         Afghanistan   \n",
       "1               *****                     600,000.00              Russia   \n",
       "2               *****                     600,000.00              Russia   \n",
       "3               *****                     600,000.00              Russia   \n",
       "4               *****                     580,000.00              Russia   \n",
       "\n",
       "    Beneficiary type Subject of grant or contract  \\\n",
       "0  Private Companies                        *****   \n",
       "1  Private Companies                        *****   \n",
       "2  Private Companies                        *****   \n",
       "3  Private Companies                        *****   \n",
       "4  Private Companies                        *****   \n",
       "\n",
       "                                      Programme name  \n",
       "0  6.0.111 - Neighbourhood, Development and Inter...  \n",
       "1  6.0.111 - Neighbourhood, Development and Inter...  \n",
       "2  6.0.111 - Neighbourhood, Development and Inter...  \n",
       "3  6.0.111 - Neighbourhood, Development and Inter...  \n",
       "4  6.0.111 - Neighbourhood, Development and Inter...  "
      ]
     },
     "execution_count": 6,
     "metadata": {},
     "output_type": "execute_result"
    }
   ],
   "source": [
    "private_companies = filtered[filtered[\"Beneficiary type\"] == \"Private Companies\"]\n",
    "private_companies.head()"
   ]
  },
  {
   "cell_type": "code",
   "execution_count": null,
   "id": "69ec99de-c717-460c-bb82-d2588f283b19",
   "metadata": {},
   "outputs": [],
   "source": []
  },
  {
   "cell_type": "markdown",
   "id": "1241f630-c7ed-40de-a13f-2dcb6f1848ad",
   "metadata": {},
   "source": [
    "Now that we have a numeric column to explore, let's use two ways to group our data:\n",
    "\n",
    "```python\n",
    "df.groupby(\"column\").agg() # aggregate based on 1 or more columns (more columns reqire making a list)\n",
    "pd.pivot_table(df, index=\"column1\", columns=\"column2\", values=\"column3\", aggfunc=\"sum\") # will create a pivot table with a column in the rows and in the columns\n",
    "```\n",
    "So let's try:\n",
    "\n",
    "```python\n",
    "private_companies.groupby(\"Name of beneficiary\").sum()\n",
    "```\n",
    "\n",
    "This will sum up the money acquired by a particular beneficiary. Instead of `.sum()` we can use for example `.count()`, `.mean()`, `.median()`, `.min()`, `.max()`\n"
   ]
  },
  {
   "cell_type": "code",
   "execution_count": null,
   "id": "057cbf80-86bc-4bc9-985d-4b8b16b96a97",
   "metadata": {},
   "outputs": [],
   "source": []
  },
  {
   "cell_type": "markdown",
   "id": "84774ca1-8fee-45ec-94e6-738af169da55",
   "metadata": {},
   "source": [
    "Pivot tables are similar to groupby, but they have rows and columns.\n",
    "\n",
    "```python\n",
    "pd.pivot_table(filtered, index=\"Beneficiary country\", columns=\"Beneficiary type\", values=\"beneficiary_contracted_amount\", aggfunc=\"sum\")\n",
    "```"
   ]
  },
  {
   "cell_type": "code",
   "execution_count": null,
   "id": "efa29497-2694-4614-bc44-cd7c15ca2a4f",
   "metadata": {},
   "outputs": [],
   "source": []
  },
  {
   "cell_type": "markdown",
   "id": "2f92e4c6-546c-46f9-8b17-5eaa79370247",
   "metadata": {},
   "source": [
    "## 5.Data visualization"
   ]
  },
  {
   "cell_type": "code",
   "execution_count": 7,
   "id": "b0c2e5a6-8f2e-45e3-baa0-142cf3a542b5",
   "metadata": {},
   "outputs": [],
   "source": [
    "import altair as alt"
   ]
  },
  {
   "cell_type": "markdown",
   "id": "1f7091b4-53ff-47d5-af8c-b8295da5b61e",
   "metadata": {},
   "source": [
    "You can find lots of examples on how to make data visualizations with altair on [the documentation example gallery](https://altair-viz.github.io/gallery/index.html)\n",
    "\n",
    "Making a simple bar chart of the top 5 largest recipients:\n",
    "\n",
    "```python\n",
    "chart_data = filtered.nlargest(5, \"beneficiary_contracted_amount\")\n",
    "\n",
    "alt.Chart(chart_data).mark_bar().encode(\n",
    "       y = alt.Y(\"Name of beneficiary\", sort=\"-x\"),\n",
    "       x = \"beneficiary_contracted_amount\"\n",
    ")\n",
    "```"
   ]
  },
  {
   "cell_type": "code",
   "execution_count": null,
   "id": "b88d2411-305c-4ed4-a0b4-ea71319a8d91",
   "metadata": {},
   "outputs": [],
   "source": []
  },
  {
   "cell_type": "code",
   "execution_count": null,
   "id": "039e46e9-1cb4-4527-8ee7-34144fa08e34",
   "metadata": {},
   "outputs": [],
   "source": []
  },
  {
   "cell_type": "markdown",
   "id": "b38cda2b-0188-4cf1-b5f2-62a5e7a038e8",
   "metadata": {},
   "source": [
    "## 6. Conditional formatting"
   ]
  },
  {
   "cell_type": "markdown",
   "id": "1fb10311-50fc-445c-b049-45e481175df9",
   "metadata": {},
   "source": [
    "To highlight the largest values of a table, pandas offers us the possibility to use styling on the dataset.\n",
    "\n",
    "```python\n",
    "pivot = pd.pivot_table(filtered, index=\"Beneficiary country\", columns=\"Beneficiary type\", values=\"beneficiary_contracted_amount\", aggfunc=\"sum\")\n",
    "pivot[[\"Private Companies\", \"Private persons\" ,\"Public Bodies\"]].nlargest(30, 'Private Companies').style.background_gradient()\n",
    "```"
   ]
  },
  {
   "cell_type": "code",
   "execution_count": null,
   "id": "b730cf4e-edde-4467-a06b-7ec616a62829",
   "metadata": {},
   "outputs": [],
   "source": []
  },
  {
   "cell_type": "code",
   "execution_count": null,
   "id": "b12b46bc-41af-418e-87bf-618604b3f448",
   "metadata": {},
   "outputs": [],
   "source": []
  },
  {
   "cell_type": "code",
   "execution_count": null,
   "id": "73b3ea14-cf8c-4546-a83a-777702a099f1",
   "metadata": {},
   "outputs": [],
   "source": []
  },
  {
   "cell_type": "markdown",
   "id": "44d5825f-e4d2-42b2-a4d1-cd1b64f3d466",
   "metadata": {},
   "source": [
    "# Merging data"
   ]
  },
  {
   "cell_type": "markdown",
   "id": "f28ed866-a470-4f96-81b5-b11a652ee68b",
   "metadata": {},
   "source": [
    "Let's combine the data with another dataset. This is the where we can get unique insights. We will combine the Financial Transparency System data with the Transparency System data (lobby register).\n",
    "\n",
    "```python\n",
    "df2 = pd.read_excel(\"data/TransparencyRegister.xls\")\n",
    "df2.sample(3)\n",
    "```"
   ]
  },
  {
   "cell_type": "code",
   "execution_count": 22,
   "id": "6556e880-0ba1-4a74-a4a9-5556a65298de",
   "metadata": {},
   "outputs": [],
   "source": []
  },
  {
   "cell_type": "markdown",
   "id": "f529694e-8b09-437c-8fda-344a6e8d2db5",
   "metadata": {},
   "source": [
    "We need to find a column in both datasets that is the same. Which one would that be?"
   ]
  },
  {
   "cell_type": "code",
   "execution_count": null,
   "id": "453eba0f-82b1-495b-b9f6-6bd80e41146d",
   "metadata": {},
   "outputs": [],
   "source": []
  },
  {
   "cell_type": "markdown",
   "id": "5b0a543c-e90e-4058-af2a-9c811bdb5702",
   "metadata": {},
   "source": [
    "There are disparities in the case of the values of this column. Let's fix that first."
   ]
  },
  {
   "cell_type": "code",
   "execution_count": null,
   "id": "5055fc1e-15ea-4ce8-a052-e082dd53280e",
   "metadata": {},
   "outputs": [],
   "source": []
  },
  {
   "cell_type": "markdown",
   "id": "7a217416-4cd4-417e-993b-62eece387160",
   "metadata": {},
   "source": [
    "Now let's `merge` and have a look at the data"
   ]
  },
  {
   "cell_type": "code",
   "execution_count": null,
   "id": "b775e6af-e52d-4781-94d1-f73a61b6bfc4",
   "metadata": {},
   "outputs": [],
   "source": []
  },
  {
   "cell_type": "markdown",
   "id": "73a95419-866c-4036-a8be-430eca06e0de",
   "metadata": {},
   "source": [
    "Let's use `groupby` to get some more information"
   ]
  },
  {
   "cell_type": "code",
   "execution_count": null,
   "id": "988b1b33-53d7-41c7-8777-d5bdff30d1b2",
   "metadata": {},
   "outputs": [],
   "source": []
  },
  {
   "cell_type": "markdown",
   "id": "4380f1ac-6c1a-4836-828e-515967b93b57",
   "metadata": {},
   "source": [
    "Beware of duplication when merging. In the FTS, a company can get multiple contracts in a year. That means that it can appear multiple times in the data. In the Transparency Register, there is only one row per institution."
   ]
  },
  {
   "cell_type": "code",
   "execution_count": null,
   "id": "17df29a3-67d7-45be-be93-db7b68ba8535",
   "metadata": {},
   "outputs": [],
   "source": []
  }
 ],
 "metadata": {
  "kernelspec": {
   "display_name": "Python 3 (ipykernel)",
   "language": "python",
   "name": "python3"
  },
  "language_info": {
   "codemirror_mode": {
    "name": "ipython",
    "version": 3
   },
   "file_extension": ".py",
   "mimetype": "text/x-python",
   "name": "python",
   "nbconvert_exporter": "python",
   "pygments_lexer": "ipython3",
   "version": "3.9.7"
  }
 },
 "nbformat": 4,
 "nbformat_minor": 5
}
