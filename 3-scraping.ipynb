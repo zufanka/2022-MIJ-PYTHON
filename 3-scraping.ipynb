{
 "cells": [
  {
   "cell_type": "markdown",
   "id": "97314785-40cd-4740-adaa-8c5195f9bb72",
   "metadata": {},
   "source": [
    "# Scraping in Python"
   ]
  },
  {
   "cell_type": "markdown",
   "id": "b160cf8e-57b6-4ec5-af9a-3928c2ceb68c",
   "metadata": {},
   "source": [
    "For scraping we'll use 2 libraries : `requests` and `Beautiful Soup`. Let's import them."
   ]
  },
  {
   "cell_type": "code",
   "execution_count": 2,
   "id": "52b0c1d9-796a-48bd-9e51-6edafa90ee7a",
   "metadata": {},
   "outputs": [],
   "source": [
    "import pandas as pd\n",
    "import requests\n",
    "from bs4 import BeautifulSoup as bs"
   ]
  },
  {
   "cell_type": "markdown",
   "id": "e79e5419-cb45-4bfc-a0c9-36db4c8bf849",
   "metadata": {},
   "source": [
    "We will scrape an etsy page. Let's do the search in the browser and copy the URL here."
   ]
  },
  {
   "cell_type": "code",
   "execution_count": 121,
   "id": "420453b8-14c2-406b-816f-4f24630a7e29",
   "metadata": {},
   "outputs": [],
   "source": [
    "www = \"https://www.etsy.com/search?q=dog+sweater&explicit=1&locationQuery=6255148\""
   ]
  },
  {
   "cell_type": "markdown",
   "id": "2529b986-b8de-41d6-8e3b-b0c181830e6b",
   "metadata": {},
   "source": [
    "We will use only a couple of methods from both libraries. From the `requests` library, we will use only one , namely:\n",
    "\n",
    "```python\n",
    "requests.get()\n",
    "```\n",
    "\n",
    "From `Beautiful Soup`, we will use a couple of them:\n",
    "```python\n",
    "soup.select()\n",
    "soup.element.get()\n",
    ".text\n",
    "```\n",
    "\n",
    "Let's open the website with requests and parse it with Beautiful Soup, like this:\n",
    "\n",
    "```python\n",
    "r = requests.get(www)\n",
    "soup = bs(r.text)\n",
    "```"
   ]
  },
  {
   "cell_type": "code",
   "execution_count": null,
   "id": "a4b19d40-4a56-41cc-9187-3172eaef1a28",
   "metadata": {},
   "outputs": [],
   "source": []
  },
  {
   "cell_type": "markdown",
   "id": "a32749b6-79c5-47db-bc9d-fcd46d8f10f3",
   "metadata": {},
   "source": [
    "Further, we need to know something about how HTML is structured and so-called CSS selectors.\n",
    "\n",
    "![html](img/anatomy-of-an-html-element.jpg)\n",
    "![html](img/html-element.png)\n",
    "\n",
    "Let's have a look at what our soup looks like"
   ]
  },
  {
   "cell_type": "code",
   "execution_count": null,
   "id": "13a2b7b9-c18c-4c0c-aafd-e17fadaaf706",
   "metadata": {},
   "outputs": [],
   "source": []
  },
  {
   "cell_type": "markdown",
   "id": "3ef9167c-bd77-43ec-9d16-176251412026",
   "metadata": {},
   "source": [
    "CSS selectors will allow us to look for elements within the HTML code.\n",
    "\n",
    "![html](img/css_selectors.png)\n"
   ]
  },
  {
   "cell_type": "code",
   "execution_count": null,
   "id": "40ec1c35-0bd5-486b-9519-2f583b64b0ea",
   "metadata": {},
   "outputs": [],
   "source": []
  }
 ],
 "metadata": {
  "kernelspec": {
   "display_name": "Python 3 (ipykernel)",
   "language": "python",
   "name": "python3"
  },
  "language_info": {
   "codemirror_mode": {
    "name": "ipython",
    "version": 3
   },
   "file_extension": ".py",
   "mimetype": "text/x-python",
   "name": "python",
   "nbconvert_exporter": "python",
   "pygments_lexer": "ipython3",
   "version": "3.9.7"
  }
 },
 "nbformat": 4,
 "nbformat_minor": 5
}
