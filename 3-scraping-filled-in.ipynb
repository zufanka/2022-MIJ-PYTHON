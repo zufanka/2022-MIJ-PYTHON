{
 "cells": [
  {
   "cell_type": "markdown",
   "id": "97314785-40cd-4740-adaa-8c5195f9bb72",
   "metadata": {},
   "source": [
    "# Scraping in Python"
   ]
  },
  {
   "cell_type": "markdown",
   "id": "b160cf8e-57b6-4ec5-af9a-3928c2ceb68c",
   "metadata": {},
   "source": [
    "For scraping we'll use 2 libraries : `requests` and `Beautiful Soup`. Let's import them."
   ]
  },
  {
   "cell_type": "code",
   "execution_count": 1,
   "id": "52b0c1d9-796a-48bd-9e51-6edafa90ee7a",
   "metadata": {},
   "outputs": [],
   "source": [
    "import pandas as pd\n",
    "import requests\n",
    "from bs4 import BeautifulSoup as bs"
   ]
  },
  {
   "cell_type": "markdown",
   "id": "e79e5419-cb45-4bfc-a0c9-36db4c8bf849",
   "metadata": {},
   "source": [
    "We will scrape an etsy page. Let's do the search in the browser and copy the URL here."
   ]
  },
  {
   "cell_type": "code",
   "execution_count": 4,
   "id": "420453b8-14c2-406b-816f-4f24630a7e29",
   "metadata": {},
   "outputs": [],
   "source": [
    "www = \"https://www.etsy.com/search?q=dog+sweater&explicit=1&locationQuery=6255148\"\n",
    "# &ship_to=SE"
   ]
  },
  {
   "cell_type": "markdown",
   "id": "2529b986-b8de-41d6-8e3b-b0c181830e6b",
   "metadata": {},
   "source": [
    "We will use only a couple of methods from both libraries. From the `requests` library, we will use only one , namely:\n",
    "\n",
    "```python\n",
    "requests.get()\n",
    "```\n",
    "\n",
    "From `Beautiful Soup`, we will use a couple of them:\n",
    "```python\n",
    "soup.select()\n",
    "soup.element.get()\n",
    ".text\n",
    "```\n",
    "\n",
    "Let's open the website with requests and parse it with Beautiful Soup, like this:\n",
    "\n",
    "```python\n",
    "r = requests.get(www)\n",
    "soup = bs(r.text)\n",
    "```"
   ]
  },
  {
   "cell_type": "code",
   "execution_count": 8,
   "id": "a4b19d40-4a56-41cc-9187-3172eaef1a28",
   "metadata": {},
   "outputs": [],
   "source": [
    "r = requests.get(www)\n",
    "#r.text\n",
    "soup = bs(r.text)\n",
    "#soup"
   ]
  },
  {
   "cell_type": "markdown",
   "id": "a32749b6-79c5-47db-bc9d-fcd46d8f10f3",
   "metadata": {},
   "source": [
    "Further, we need to know something about how HTML is structured and so-called CSS selectors.\n",
    "\n",
    "![html](img/anatomy-of-an-html-element.jpg)\n",
    "![html](img/html-element.png)\n",
    "\n",
    "Let's have a look at what our soup looks like"
   ]
  },
  {
   "cell_type": "code",
   "execution_count": null,
   "id": "13a2b7b9-c18c-4c0c-aafd-e17fadaaf706",
   "metadata": {},
   "outputs": [],
   "source": [
    "soup"
   ]
  },
  {
   "cell_type": "markdown",
   "id": "3ef9167c-bd77-43ec-9d16-176251412026",
   "metadata": {},
   "source": [
    "CSS selectors will allow us to look for elements within the HTML code.\n",
    "\n",
    "![html](img/css_selectors.png)\n"
   ]
  },
  {
   "cell_type": "code",
   "execution_count": 12,
   "id": "40ec1c35-0bd5-486b-9519-2f583b64b0ea",
   "metadata": {},
   "outputs": [
    {
     "data": {
      "text/plain": [
       "[<h3 class=\"wt-text-caption v2-listing-card__title wt-text-truncate\">\n",
       "                 PDF Instant Digital Download 4 dog coats knitting pattern double knit and chunky (2505)\n",
       "         </h3>,\n",
       " <h3 class=\"wt-text-caption v2-listing-card__title wt-text-truncate\">\n",
       "                 Icelandic Dog Sweater - lopapeysa - wool\n",
       "         </h3>,\n",
       " <h3 class=\"wt-text-caption v2-listing-card__title wt-text-truncate\">\n",
       "                 3 Sizes Crochet Dog pullover Sweater in ARAN Yarn **PDF Instant Download** Pattern ONLY\n",
       "         </h3>,\n",
       " <h3 class=\"wt-text-caption v2-listing-card__title wt-text-truncate\">\n",
       "                 Maglioncino 100% cashmere “Loro Piana”  per cani di piccola taglia handmade made in Italy cane piccolo small dog teacup jumper dog sweater\n",
       "         </h3>,\n",
       " <h3 class=\"wt-text-caption v2-listing-card__title wt-text-truncate\">\n",
       "                 Dog sweater pattern, Small and Medium dog sweater pattern, Pet stripe sweater crochet pattern, Cat crochet pattern, Sphynx cat sweater.\n",
       "         </h3>,\n",
       " <h3 class=\"wt-text-caption v2-listing-card__title wt-text-truncate\">\n",
       "                 Cable Knit Dog Overall, Knitted Dog Sweater, Designer Dog clothes, Pet Clothing, Dog Top and Bottom, Gray Dog Pullover, Turtleneck Sweater\n",
       "         </h3>,\n",
       " <h3 class=\"wt-text-caption v2-listing-card__title wt-text-truncate\">\n",
       "                 knitting pattern, dogs coat, 3 dog coats in 3 sizes each, pdf, digital download, instant download\n",
       "         </h3>,\n",
       " <h3 class=\"wt-text-caption v2-listing-card__title wt-text-truncate\">\n",
       "                 Easy Dog Sweater Crochet Pattern | Pink Grey Dog Jumper | Beginner | Instant Digital Download PDF Pattern\n",
       "         </h3>]"
      ]
     },
     "execution_count": 12,
     "metadata": {},
     "output_type": "execute_result"
    }
   ],
   "source": [
    "soup.select(\"h3.v2-listing-card__title\")"
   ]
  },
  {
   "cell_type": "code",
   "execution_count": 14,
   "id": "208d19e7-1958-4b72-a9c1-ec55adce988b",
   "metadata": {},
   "outputs": [
    {
     "data": {
      "text/plain": [
       "[<span class=\"currency-value\">1.93</span>,\n",
       " <span class=\"currency-value\">54.57</span>,\n",
       " <span class=\"currency-value\">3.75</span>,\n",
       " <span class=\"currency-value\">52.62</span>,\n",
       " <span class=\"currency-value\">3.06</span>,\n",
       " <span class=\"currency-value\">3.82</span>,\n",
       " <span class=\"currency-value\">32.40</span>,\n",
       " <span class=\"currency-value\">36.00</span>,\n",
       " <span class=\"currency-value\">1.38</span>,\n",
       " <span class=\"currency-value\">4.51</span>]"
      ]
     },
     "execution_count": 14,
     "metadata": {},
     "output_type": "execute_result"
    }
   ],
   "source": [
    "soup.select(\"span.currency-value\")"
   ]
  },
  {
   "cell_type": "code",
   "execution_count": null,
   "id": "469b662b-b702-4684-98e4-88d05ab669bc",
   "metadata": {},
   "outputs": [],
   "source": [
    "# empty list to hold our data\n",
    "data = []"
   ]
  },
  {
   "cell_type": "code",
   "execution_count": null,
   "id": "6b911679-8207-48db-95f6-e0a03245d91f",
   "metadata": {},
   "outputs": [],
   "source": [
    "for n in range(1,21):\n",
    "    \n",
    "    print(n)\n",
    "    \n",
    "    # create a webpage link with the page reference\n",
    "    www = f\"https://www.etsy.com/search?q=dog+sweater&explicit=1&locationQuery=6255148&page={n}&ref=pagination\"\n",
    "   \n",
    "    # scrape this page\n",
    "    r = requests.get(www)\n",
    "    soup = bs(r.text)\n",
    "    \n",
    "    # for every 'div' item on the page with the class 'v2-listing-card'\n",
    "    for item in soup.select(\"div.v2-listing-card\"):\n",
    "\n",
    "        # create an empty dictionary that will hold the information from every item.\n",
    "        row = {}\n",
    "\n",
    "        row[\"title\"] = item.select(\"h3.v2-listing-card__title\")[0].text.strip()\n",
    "        row[\"price\"] = item.select(\"span.currency-value\")[0].text\n",
    "        # TODO : add currency\n",
    "        row[\"link\"] = item.select(\".listing-link\")[0].get(\"href\")\n",
    "\n",
    "        # open the page of the item\n",
    "        r_item = requests.get(row[\"link\"])\n",
    "        soup_item = bs(r_item.text)\n",
    "\n",
    "        # find the URL of the shop\n",
    "        row[\"shop_url\"] = soup_item.select(\"#desktop_shop_owners_parent a\")[0].get(\"href\")\n",
    "\n",
    "        # open the URL of the shop\n",
    "        r_shop = requests.get(row[\"shop_url\"])\n",
    "        soup_shop = bs(r_shop.text)\n",
    "        \n",
    "        # try to find the shop location. If it fails, save an empty string\n",
    "        try:\n",
    "            row[\"location\"] = soup_shop.select(\"span.shop-location\")[0].text\n",
    "        except IndexError:\n",
    "            row[\"location\"] = ''\n",
    "\n",
    "        # append the dictionary to the data list\n",
    "        data.append(row)\n",
    "\n",
    "    pd.DataFrame(data)#.to_csv(\"data.csv\")"
   ]
  },
  {
   "cell_type": "code",
   "execution_count": 54,
   "id": "8fe63c8f-a9c9-4fad-958e-c02d932bd01a",
   "metadata": {},
   "outputs": [],
   "source": [
    "df = pd.DataFrame(data)"
   ]
  },
  {
   "cell_type": "code",
   "execution_count": 57,
   "id": "fcb83d80-1b50-4004-9583-23a92eb37b7f",
   "metadata": {},
   "outputs": [],
   "source": [
    "# find out which titles contain the word 'pattern' and assing True and False to them\n",
    "df[\"pattern\"] = df[\"title\"].str.lower().str.contains(\"pattern\")"
   ]
  },
  {
   "cell_type": "code",
   "execution_count": 72,
   "id": "5f50f379-b494-4f72-8fab-4bfe07f996b1",
   "metadata": {},
   "outputs": [
    {
     "data": {
      "text/html": [
       "<div>\n",
       "<style scoped>\n",
       "    .dataframe tbody tr th:only-of-type {\n",
       "        vertical-align: middle;\n",
       "    }\n",
       "\n",
       "    .dataframe tbody tr th {\n",
       "        vertical-align: top;\n",
       "    }\n",
       "\n",
       "    .dataframe thead th {\n",
       "        text-align: right;\n",
       "    }\n",
       "</style>\n",
       "<table border=\"1\" class=\"dataframe\">\n",
       "  <thead>\n",
       "    <tr style=\"text-align: right;\">\n",
       "      <th></th>\n",
       "      <th>title</th>\n",
       "      <th>price</th>\n",
       "      <th>link</th>\n",
       "      <th>shop_url</th>\n",
       "      <th>location</th>\n",
       "      <th>pattern</th>\n",
       "    </tr>\n",
       "  </thead>\n",
       "  <tbody>\n",
       "    <tr>\n",
       "      <th>132</th>\n",
       "      <td>Dog teddy bear fleece  poloneck jumpers. For i...</td>\n",
       "      <td>5.33</td>\n",
       "      <td>https://www.etsy.com/listing/903151000/dog-ted...</td>\n",
       "      <td>https://www.etsy.com/shop/ThePoshPawsCompany?r...</td>\n",
       "      <td>Birmingham, United Kingdom</td>\n",
       "      <td>False</td>\n",
       "    </tr>\n",
       "  </tbody>\n",
       "</table>\n",
       "</div>"
      ],
      "text/plain": [
       "                                                 title price  \\\n",
       "132  Dog teddy bear fleece  poloneck jumpers. For i...  5.33   \n",
       "\n",
       "                                                  link  \\\n",
       "132  https://www.etsy.com/listing/903151000/dog-ted...   \n",
       "\n",
       "                                              shop_url  \\\n",
       "132  https://www.etsy.com/shop/ThePoshPawsCompany?r...   \n",
       "\n",
       "                       location  pattern  \n",
       "132  Birmingham, United Kingdom    False  "
      ]
     },
     "execution_count": 72,
     "metadata": {},
     "output_type": "execute_result"
    }
   ],
   "source": [
    "# filter out only the ones that did not contain the word 'pattern'\n",
    "sweaters = df[df[\"pattern\"] == False]\n",
    "sweaters.sample(1)"
   ]
  },
  {
   "cell_type": "code",
   "execution_count": 107,
   "id": "8996e7bf-8b48-4129-b3e8-b5f5dd495eb9",
   "metadata": {},
   "outputs": [
    {
     "name": "stderr",
     "output_type": "stream",
     "text": [
      "/tmp/ipykernel_5240/2207047878.py:4: SettingWithCopyWarning: \n",
      "A value is trying to be set on a copy of a slice from a DataFrame.\n",
      "Try using .loc[row_indexer,col_indexer] = value instead\n",
      "\n",
      "See the caveats in the documentation: https://pandas.pydata.org/pandas-docs/stable/user_guide/indexing.html#returning-a-view-versus-a-copy\n",
      "  sweaters[\"country\"] = sweaters[\"location\"].str.split(\",\").str[-1].str.strip()\n"
     ]
    }
   ],
   "source": [
    "# get the country of the shop by splitting and chosing the last element of the list.\n",
    "# use .strip() to remove the whitespaces\n",
    "# ignore the warning :)\n",
    "sweaters[\"country\"] = sweaters[\"location\"].str.split(\",\").str[-1].str.strip()"
   ]
  },
  {
   "cell_type": "code",
   "execution_count": 108,
   "id": "6fb92976-c046-48b4-a16f-ebc0b5337d85",
   "metadata": {},
   "outputs": [
    {
     "name": "stderr",
     "output_type": "stream",
     "text": [
      "/tmp/ipykernel_5240/1643080853.py:2: SettingWithCopyWarning: \n",
      "A value is trying to be set on a copy of a slice from a DataFrame.\n",
      "Try using .loc[row_indexer,col_indexer] = value instead\n",
      "\n",
      "See the caveats in the documentation: https://pandas.pydata.org/pandas-docs/stable/user_guide/indexing.html#returning-a-view-versus-a-copy\n",
      "  sweaters[\"price\"] = pd.to_numeric(sweaters[\"price\"])\n"
     ]
    }
   ],
   "source": [
    "# python thinks that the column price is not numeric. Let's make it numeric\n",
    "# ignore the warning if you get it\n",
    "sweaters[\"price\"] = pd.to_numeric(sweaters[\"price\"])"
   ]
  },
  {
   "cell_type": "code",
   "execution_count": 104,
   "id": "868a8c8d-b2a0-4d47-b7a5-3aa6e2a50996",
   "metadata": {},
   "outputs": [
    {
     "data": {
      "text/html": [
       "<div>\n",
       "<style scoped>\n",
       "    .dataframe tbody tr th:only-of-type {\n",
       "        vertical-align: middle;\n",
       "    }\n",
       "\n",
       "    .dataframe tbody tr th {\n",
       "        vertical-align: top;\n",
       "    }\n",
       "\n",
       "    .dataframe thead th {\n",
       "        text-align: right;\n",
       "    }\n",
       "</style>\n",
       "<table border=\"1\" class=\"dataframe\">\n",
       "  <thead>\n",
       "    <tr style=\"text-align: right;\">\n",
       "      <th></th>\n",
       "      <th>title</th>\n",
       "      <th>price</th>\n",
       "      <th>link</th>\n",
       "      <th>shop_url</th>\n",
       "      <th>location</th>\n",
       "      <th>pattern</th>\n",
       "      <th>country</th>\n",
       "    </tr>\n",
       "  </thead>\n",
       "  <tbody>\n",
       "    <tr>\n",
       "      <th>79</th>\n",
       "      <td>Sweater for large dogs / Warm winter dog coat ...</td>\n",
       "      <td>120.05</td>\n",
       "      <td>https://www.etsy.com/listing/1039505921/sweate...</td>\n",
       "      <td>https://www.etsy.com/shop/MioMyDog?ref=l2-abou...</td>\n",
       "      <td>Riga, Latvia</td>\n",
       "      <td>False</td>\n",
       "      <td>Latvia</td>\n",
       "    </tr>\n",
       "    <tr>\n",
       "      <th>141</th>\n",
       "      <td>Spaniel Waterproof Dog Raincoat Plain Color - ...</td>\n",
       "      <td>103.00</td>\n",
       "      <td>https://www.etsy.com/listing/783710021/spaniel...</td>\n",
       "      <td>https://www.etsy.com/shop/BarkAndGo?ref=l2-abo...</td>\n",
       "      <td>Lviv, Ukraine</td>\n",
       "      <td>False</td>\n",
       "      <td>Ukraine</td>\n",
       "    </tr>\n",
       "    <tr>\n",
       "      <th>67</th>\n",
       "      <td>Warm jacket for a big dog;  Dog clothes; natur...</td>\n",
       "      <td>92.76</td>\n",
       "      <td>https://www.etsy.com/listing/909390108/warm-ja...</td>\n",
       "      <td>https://www.etsy.com/shop/LigEdHandmade?ref=l2...</td>\n",
       "      <td>Liepāja, Latvia</td>\n",
       "      <td>False</td>\n",
       "      <td>Latvia</td>\n",
       "    </tr>\n",
       "    <tr>\n",
       "      <th>83</th>\n",
       "      <td>Black natural woll ;knitted dog sweater; Warm ...</td>\n",
       "      <td>92.76</td>\n",
       "      <td>https://www.etsy.com/listing/1190804184/black-...</td>\n",
       "      <td>https://www.etsy.com/shop/LigEdHandmade?ref=l2...</td>\n",
       "      <td>Liepāja, Latvia</td>\n",
       "      <td>False</td>\n",
       "      <td>Latvia</td>\n",
       "    </tr>\n",
       "    <tr>\n",
       "      <th>87</th>\n",
       "      <td>dog sweater/ autum sweater/ Warm jacket for a ...</td>\n",
       "      <td>92.76</td>\n",
       "      <td>https://www.etsy.com/listing/1148924065/dog-sw...</td>\n",
       "      <td>https://www.etsy.com/shop/LigEdHandmade?ref=l2...</td>\n",
       "      <td>Liepāja, Latvia</td>\n",
       "      <td>False</td>\n",
       "      <td>Latvia</td>\n",
       "    </tr>\n",
       "  </tbody>\n",
       "</table>\n",
       "</div>"
      ],
      "text/plain": [
       "                                                 title   price  \\\n",
       "79   Sweater for large dogs / Warm winter dog coat ...  120.05   \n",
       "141  Spaniel Waterproof Dog Raincoat Plain Color - ...  103.00   \n",
       "67   Warm jacket for a big dog;  Dog clothes; natur...   92.76   \n",
       "83   Black natural woll ;knitted dog sweater; Warm ...   92.76   \n",
       "87   dog sweater/ autum sweater/ Warm jacket for a ...   92.76   \n",
       "\n",
       "                                                  link  \\\n",
       "79   https://www.etsy.com/listing/1039505921/sweate...   \n",
       "141  https://www.etsy.com/listing/783710021/spaniel...   \n",
       "67   https://www.etsy.com/listing/909390108/warm-ja...   \n",
       "83   https://www.etsy.com/listing/1190804184/black-...   \n",
       "87   https://www.etsy.com/listing/1148924065/dog-sw...   \n",
       "\n",
       "                                              shop_url         location  \\\n",
       "79   https://www.etsy.com/shop/MioMyDog?ref=l2-abou...     Riga, Latvia   \n",
       "141  https://www.etsy.com/shop/BarkAndGo?ref=l2-abo...    Lviv, Ukraine   \n",
       "67   https://www.etsy.com/shop/LigEdHandmade?ref=l2...  Liepāja, Latvia   \n",
       "83   https://www.etsy.com/shop/LigEdHandmade?ref=l2...  Liepāja, Latvia   \n",
       "87   https://www.etsy.com/shop/LigEdHandmade?ref=l2...  Liepāja, Latvia   \n",
       "\n",
       "     pattern  country  \n",
       "79     False   Latvia  \n",
       "141    False  Ukraine  \n",
       "67     False   Latvia  \n",
       "83     False   Latvia  \n",
       "87     False   Latvia  "
      ]
     },
     "execution_count": 104,
     "metadata": {},
     "output_type": "execute_result"
    }
   ],
   "source": [
    "# the 5 most expensive sweaters\n",
    "sweaters.nlargest(5, \"price\")"
   ]
  },
  {
   "cell_type": "code",
   "execution_count": 109,
   "id": "915bab06-6a1a-4019-baee-9832cc02c275",
   "metadata": {},
   "outputs": [
    {
     "data": {
      "text/html": [
       "<div>\n",
       "<style scoped>\n",
       "    .dataframe tbody tr th:only-of-type {\n",
       "        vertical-align: middle;\n",
       "    }\n",
       "\n",
       "    .dataframe tbody tr th {\n",
       "        vertical-align: top;\n",
       "    }\n",
       "\n",
       "    .dataframe thead th {\n",
       "        text-align: right;\n",
       "    }\n",
       "</style>\n",
       "<table border=\"1\" class=\"dataframe\">\n",
       "  <thead>\n",
       "    <tr style=\"text-align: right;\">\n",
       "      <th></th>\n",
       "      <th>price</th>\n",
       "      <th>pattern</th>\n",
       "    </tr>\n",
       "    <tr>\n",
       "      <th>country</th>\n",
       "      <th></th>\n",
       "      <th></th>\n",
       "    </tr>\n",
       "  </thead>\n",
       "  <tbody>\n",
       "    <tr>\n",
       "      <th>Hungary</th>\n",
       "      <td>84.030000</td>\n",
       "      <td>0.0</td>\n",
       "    </tr>\n",
       "    <tr>\n",
       "      <th>Latvia</th>\n",
       "      <td>82.150000</td>\n",
       "      <td>0.0</td>\n",
       "    </tr>\n",
       "    <tr>\n",
       "      <th>Lithuania</th>\n",
       "      <td>57.840000</td>\n",
       "      <td>0.0</td>\n",
       "    </tr>\n",
       "    <tr>\n",
       "      <th>Iceland</th>\n",
       "      <td>54.570000</td>\n",
       "      <td>0.0</td>\n",
       "    </tr>\n",
       "    <tr>\n",
       "      <th>Denmark</th>\n",
       "      <td>54.526000</td>\n",
       "      <td>0.0</td>\n",
       "    </tr>\n",
       "    <tr>\n",
       "      <th>Sweden</th>\n",
       "      <td>49.040000</td>\n",
       "      <td>0.0</td>\n",
       "    </tr>\n",
       "    <tr>\n",
       "      <th>Turkey</th>\n",
       "      <td>46.466667</td>\n",
       "      <td>0.0</td>\n",
       "    </tr>\n",
       "    <tr>\n",
       "      <th>Ukraine</th>\n",
       "      <td>44.833333</td>\n",
       "      <td>0.0</td>\n",
       "    </tr>\n",
       "    <tr>\n",
       "      <th>France</th>\n",
       "      <td>43.650000</td>\n",
       "      <td>0.0</td>\n",
       "    </tr>\n",
       "    <tr>\n",
       "      <th>Italy</th>\n",
       "      <td>43.396667</td>\n",
       "      <td>0.0</td>\n",
       "    </tr>\n",
       "  </tbody>\n",
       "</table>\n",
       "</div>"
      ],
      "text/plain": [
       "               price  pattern\n",
       "country                      \n",
       "Hungary    84.030000      0.0\n",
       "Latvia     82.150000      0.0\n",
       "Lithuania  57.840000      0.0\n",
       "Iceland    54.570000      0.0\n",
       "Denmark    54.526000      0.0\n",
       "Sweden     49.040000      0.0\n",
       "Turkey     46.466667      0.0\n",
       "Ukraine    44.833333      0.0\n",
       "France     43.650000      0.0\n",
       "Italy      43.396667      0.0"
      ]
     },
     "execution_count": 109,
     "metadata": {},
     "output_type": "execute_result"
    }
   ],
   "source": [
    "# 10 countries that make the most expensive dog sweaters\n",
    "sweaters.groupby(\"country\").mean().nlargest(10, \"price\")#.index"
   ]
  },
  {
   "cell_type": "code",
   "execution_count": null,
   "id": "67721429-3772-444a-b494-1dbb2fa63f65",
   "metadata": {},
   "outputs": [],
   "source": []
  }
 ],
 "metadata": {
  "kernelspec": {
   "display_name": "Python 3 (ipykernel)",
   "language": "python",
   "name": "python3"
  },
  "language_info": {
   "codemirror_mode": {
    "name": "ipython",
    "version": 3
   },
   "file_extension": ".py",
   "mimetype": "text/x-python",
   "name": "python",
   "nbconvert_exporter": "python",
   "pygments_lexer": "ipython3",
   "version": "3.9.7"
  }
 },
 "nbformat": 4,
 "nbformat_minor": 5
}
