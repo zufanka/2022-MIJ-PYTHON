{
 "cells": [
  {
   "cell_type": "markdown",
   "id": "9139aaa4-32bd-47aa-a915-334f605f552f",
   "metadata": {},
   "source": [
    "# Homework: Data analysis in a group\n",
    "1. Make a group of 3-4\n",
    "2. Take the dataset \"H202_organizations.csv\" from the \"2-datasets\" folder\n",
    "3. Make a short analysis and prepare to answer the questions the following day\n",
    "\n",
    "## Questions to answer\n",
    "* What is in this data?\n",
    "* Are thre missing values? If so in which columns and how many?\n",
    "* How many columns and rows does this dataset have?\n",
    "* How many unique values are in the \"projectAcronym\" column? What does this mean?\n",
    "* What kind of values are in the column \"country\" and how many countries are there?\n",
    "* Which 10 companies got the most money?\n",
    "* How many projects were they involved in?\n",
    "* Which 10 companies got the most money on average per project? (hint: median)\n",
    "* Make a bar graph of the TOP 10 countries that got the most money\n",
    "* Which countries got the most money per inhabitant?"
   ]
  },
  {
   "cell_type": "code",
   "execution_count": null,
   "id": "6025294f-f42c-4a8a-bfd9-050429e162dd",
   "metadata": {},
   "outputs": [],
   "source": []
  },
  {
   "cell_type": "code",
   "execution_count": null,
   "id": "51891c36-4a40-454b-8700-c1f7332eb2ca",
   "metadata": {},
   "outputs": [],
   "source": []
  },
  {
   "cell_type": "code",
   "execution_count": null,
   "id": "e61fcb22-4330-4e1f-88f7-c2b72ff773ea",
   "metadata": {},
   "outputs": [],
   "source": []
  }
 ],
 "metadata": {
  "kernelspec": {
   "display_name": "Python 3 (ipykernel)",
   "language": "python",
   "name": "python3"
  },
  "language_info": {
   "codemirror_mode": {
    "name": "ipython",
    "version": 3
   },
   "file_extension": ".py",
   "mimetype": "text/x-python",
   "name": "python",
   "nbconvert_exporter": "python",
   "pygments_lexer": "ipython3",
   "version": "3.9.7"
  }
 },
 "nbformat": 4,
 "nbformat_minor": 5
}
